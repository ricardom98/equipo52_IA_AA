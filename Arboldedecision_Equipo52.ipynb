{
  "nbformat": 4,
  "nbformat_minor": 0,
  "metadata": {
    "colab": {
      "provenance": [],
      "collapsed_sections": [],
      "include_colab_link": true
    },
    "kernelspec": {
      "display_name": "Python 3",
      "name": "python3"
    }
  },
  "cells": [
    {
      "cell_type": "markdown",
      "metadata": {
        "id": "view-in-github",
        "colab_type": "text"
      },
      "source": [
        "<a href=\"https://colab.research.google.com/github/ricardom98/equipo52_IA_AA/blob/main/Arboldedecision_Equipo52.ipynb\" target=\"_parent\"><img src=\"https://colab.research.google.com/assets/colab-badge.svg\" alt=\"Open In Colab\"/></a>"
      ]
    },
    {
      "cell_type": "markdown",
      "source": [
        "#**Maestría en Inteligencia Artificial Aplicada**\n",
        "##**Curso: Inteligencia Artificial y Aprendizaje Automático**\n",
        "###Tecnológico de Monterrey\n",
        "###Prof Luis Eduardo Falcón Morales\n",
        "\n",
        "## **Adtividad de la Semana 6**\n",
        "###**Árboles de decisión y bosque aleatorio.**\n"
      ],
      "metadata": {
        "id": "VFj0sSM06dYa"
      }
    },
    {
      "cell_type": "markdown",
      "source": [
        "**Nombres y matrículas de los integrantes del equipo:**\n",
        "\n",
        "*   \n",
        "*   \n",
        "*   \n",
        "*   \n",
        "*   \n"
      ],
      "metadata": {
        "id": "Qgrvy0RGB9XI"
      }
    },
    {
      "cell_type": "markdown",
      "source": [
        "En cada sección deberás incluir todas las líneas de código necesarias para responder a cada uno de los ejercicios."
      ],
      "metadata": {
        "id": "FrJ2ahMODVj1"
      }
    },
    {
      "cell_type": "code",
      "source": [
        "# Incluye aquí todos módulos, librerías y paquetes que requieras.\n",
        "import numpy as np\n",
        "import pandas as pd\n",
        "import matplotlib.pyplot as plt\n",
        "import seaborn as sns \n",
        "\n",
        "from sklearn.tree import DecisionTreeClassifier\n",
        "from sklearn.ensemble import RandomForestClassifier\n",
        "from sklearn.linear_model import LogisticRegression, Lasso, Ridge, ElasticNet\n",
        "\n",
        "from sklearn.model_selection import train_test_split \n",
        "from sklearn.metrics import confusion_matrix\n",
        "from sklearn.model_selection import cross_val_score, cross_validate\n",
        "from sklearn.model_selection import RepeatedStratifiedKFold\n",
        "from sklearn.model_selection import learning_curve, validation_curve\n",
        "from sklearn.model_selection import GridSearchCV\n",
        "\n",
        "from sklearn.pipeline import Pipeline\n",
        "from sklearn.compose import ColumnTransformer\n",
        "from sklearn.impute import SimpleImputer\n",
        "from sklearn.preprocessing import MinMaxScaler, OneHotEncoder\n",
        "\n",
        "from sklearn.metrics import make_scorer\n",
        "\n",
        "# Para Crear Arbol de Decisión como Imagen :\n",
        "from sklearn import tree\n",
        "import pydotplus \n",
        "from IPython.display import Image\n",
        "\n",
        "from sklearn.ensemble import RandomForestClassifier"
      ],
      "metadata": {
        "id": "exXsscs-Dh-2"
      },
      "execution_count": 75,
      "outputs": []
    },
    {
      "cell_type": "markdown",
      "metadata": {
        "id": "X25brD-gQdZM"
      },
      "source": [
        "#**Ejercicio-1.** "
      ]
    },
    {
      "cell_type": "markdown",
      "source": [
        "Carga los datos y sustituye los nombres de las columnas del alemán al inglés de acuerdo a como se indica en la página de la UCI."
      ],
      "metadata": {
        "id": "zhM8HXXhfNf3"
      }
    },
    {
      "cell_type": "code",
      "source": [
        "#Carga del dataset en la variable df\n",
        "url = 'https://raw.githubusercontent.com/ricardom98/equipo52_IA_AA/main/SouthGermanCredit.asc'\n",
        "\n",
        "df = pd.read_csv(url, sep='\\s+')\n",
        "df.describe()\n"
      ],
      "metadata": {
        "id": "3nU2GuWYCy6C",
        "colab": {
          "base_uri": "https://localhost:8080/",
          "height": 394
        },
        "outputId": "5a5d4a9b-cf2c-4908-c291-2865894d6d76"
      },
      "execution_count": 76,
      "outputs": [
        {
          "output_type": "execute_result",
          "data": {
            "text/plain": [
              "          laufkont     laufzeit       moral         verw        hoehe  \\\n",
              "count  1000.000000  1000.000000  1000.00000  1000.000000   1000.00000   \n",
              "mean      2.577000    20.903000     2.54500     2.828000   3271.24800   \n",
              "std       1.257638    12.058814     1.08312     2.744439   2822.75176   \n",
              "min       1.000000     4.000000     0.00000     0.000000    250.00000   \n",
              "25%       1.000000    12.000000     2.00000     1.000000   1365.50000   \n",
              "50%       2.000000    18.000000     2.00000     2.000000   2319.50000   \n",
              "75%       4.000000    24.000000     4.00000     3.000000   3972.25000   \n",
              "max       4.000000    72.000000     4.00000    10.000000  18424.00000   \n",
              "\n",
              "          sparkont      beszeit         rate      famges       buerge  ...  \\\n",
              "count  1000.000000  1000.000000  1000.000000  1000.00000  1000.000000  ...   \n",
              "mean      2.105000     3.384000     2.973000     2.68200     1.145000  ...   \n",
              "std       1.580023     1.208306     1.118715     0.70808     0.477706  ...   \n",
              "min       1.000000     1.000000     1.000000     1.00000     1.000000  ...   \n",
              "25%       1.000000     3.000000     2.000000     2.00000     1.000000  ...   \n",
              "50%       1.000000     3.000000     3.000000     3.00000     1.000000  ...   \n",
              "75%       3.000000     5.000000     4.000000     3.00000     1.000000  ...   \n",
              "max       5.000000     5.000000     4.000000     4.00000     3.000000  ...   \n",
              "\n",
              "              verm       alter     weitkred         wohn     bishkred  \\\n",
              "count  1000.000000  1000.00000  1000.000000  1000.000000  1000.000000   \n",
              "mean      2.358000    35.54200     2.675000     1.928000     1.407000   \n",
              "std       1.050209    11.35267     0.705601     0.530186     0.577654   \n",
              "min       1.000000    19.00000     1.000000     1.000000     1.000000   \n",
              "25%       1.000000    27.00000     3.000000     2.000000     1.000000   \n",
              "50%       2.000000    33.00000     3.000000     2.000000     1.000000   \n",
              "75%       3.000000    42.00000     3.000000     2.000000     2.000000   \n",
              "max       4.000000    75.00000     3.000000     3.000000     4.000000   \n",
              "\n",
              "             beruf         pers        telef      gastarb       kredit  \n",
              "count  1000.000000  1000.000000  1000.000000  1000.000000  1000.000000  \n",
              "mean      2.904000     1.845000     1.404000     1.963000     0.700000  \n",
              "std       0.653614     0.362086     0.490943     0.188856     0.458487  \n",
              "min       1.000000     1.000000     1.000000     1.000000     0.000000  \n",
              "25%       3.000000     2.000000     1.000000     2.000000     0.000000  \n",
              "50%       3.000000     2.000000     1.000000     2.000000     1.000000  \n",
              "75%       3.000000     2.000000     2.000000     2.000000     1.000000  \n",
              "max       4.000000     2.000000     2.000000     2.000000     1.000000  \n",
              "\n",
              "[8 rows x 21 columns]"
            ],
            "text/html": [
              "\n",
              "  <div id=\"df-9d9d9a1e-91e3-48ea-b2e1-48f585bfc139\">\n",
              "    <div class=\"colab-df-container\">\n",
              "      <div>\n",
              "<style scoped>\n",
              "    .dataframe tbody tr th:only-of-type {\n",
              "        vertical-align: middle;\n",
              "    }\n",
              "\n",
              "    .dataframe tbody tr th {\n",
              "        vertical-align: top;\n",
              "    }\n",
              "\n",
              "    .dataframe thead th {\n",
              "        text-align: right;\n",
              "    }\n",
              "</style>\n",
              "<table border=\"1\" class=\"dataframe\">\n",
              "  <thead>\n",
              "    <tr style=\"text-align: right;\">\n",
              "      <th></th>\n",
              "      <th>laufkont</th>\n",
              "      <th>laufzeit</th>\n",
              "      <th>moral</th>\n",
              "      <th>verw</th>\n",
              "      <th>hoehe</th>\n",
              "      <th>sparkont</th>\n",
              "      <th>beszeit</th>\n",
              "      <th>rate</th>\n",
              "      <th>famges</th>\n",
              "      <th>buerge</th>\n",
              "      <th>...</th>\n",
              "      <th>verm</th>\n",
              "      <th>alter</th>\n",
              "      <th>weitkred</th>\n",
              "      <th>wohn</th>\n",
              "      <th>bishkred</th>\n",
              "      <th>beruf</th>\n",
              "      <th>pers</th>\n",
              "      <th>telef</th>\n",
              "      <th>gastarb</th>\n",
              "      <th>kredit</th>\n",
              "    </tr>\n",
              "  </thead>\n",
              "  <tbody>\n",
              "    <tr>\n",
              "      <th>count</th>\n",
              "      <td>1000.000000</td>\n",
              "      <td>1000.000000</td>\n",
              "      <td>1000.00000</td>\n",
              "      <td>1000.000000</td>\n",
              "      <td>1000.00000</td>\n",
              "      <td>1000.000000</td>\n",
              "      <td>1000.000000</td>\n",
              "      <td>1000.000000</td>\n",
              "      <td>1000.00000</td>\n",
              "      <td>1000.000000</td>\n",
              "      <td>...</td>\n",
              "      <td>1000.000000</td>\n",
              "      <td>1000.00000</td>\n",
              "      <td>1000.000000</td>\n",
              "      <td>1000.000000</td>\n",
              "      <td>1000.000000</td>\n",
              "      <td>1000.000000</td>\n",
              "      <td>1000.000000</td>\n",
              "      <td>1000.000000</td>\n",
              "      <td>1000.000000</td>\n",
              "      <td>1000.000000</td>\n",
              "    </tr>\n",
              "    <tr>\n",
              "      <th>mean</th>\n",
              "      <td>2.577000</td>\n",
              "      <td>20.903000</td>\n",
              "      <td>2.54500</td>\n",
              "      <td>2.828000</td>\n",
              "      <td>3271.24800</td>\n",
              "      <td>2.105000</td>\n",
              "      <td>3.384000</td>\n",
              "      <td>2.973000</td>\n",
              "      <td>2.68200</td>\n",
              "      <td>1.145000</td>\n",
              "      <td>...</td>\n",
              "      <td>2.358000</td>\n",
              "      <td>35.54200</td>\n",
              "      <td>2.675000</td>\n",
              "      <td>1.928000</td>\n",
              "      <td>1.407000</td>\n",
              "      <td>2.904000</td>\n",
              "      <td>1.845000</td>\n",
              "      <td>1.404000</td>\n",
              "      <td>1.963000</td>\n",
              "      <td>0.700000</td>\n",
              "    </tr>\n",
              "    <tr>\n",
              "      <th>std</th>\n",
              "      <td>1.257638</td>\n",
              "      <td>12.058814</td>\n",
              "      <td>1.08312</td>\n",
              "      <td>2.744439</td>\n",
              "      <td>2822.75176</td>\n",
              "      <td>1.580023</td>\n",
              "      <td>1.208306</td>\n",
              "      <td>1.118715</td>\n",
              "      <td>0.70808</td>\n",
              "      <td>0.477706</td>\n",
              "      <td>...</td>\n",
              "      <td>1.050209</td>\n",
              "      <td>11.35267</td>\n",
              "      <td>0.705601</td>\n",
              "      <td>0.530186</td>\n",
              "      <td>0.577654</td>\n",
              "      <td>0.653614</td>\n",
              "      <td>0.362086</td>\n",
              "      <td>0.490943</td>\n",
              "      <td>0.188856</td>\n",
              "      <td>0.458487</td>\n",
              "    </tr>\n",
              "    <tr>\n",
              "      <th>min</th>\n",
              "      <td>1.000000</td>\n",
              "      <td>4.000000</td>\n",
              "      <td>0.00000</td>\n",
              "      <td>0.000000</td>\n",
              "      <td>250.00000</td>\n",
              "      <td>1.000000</td>\n",
              "      <td>1.000000</td>\n",
              "      <td>1.000000</td>\n",
              "      <td>1.00000</td>\n",
              "      <td>1.000000</td>\n",
              "      <td>...</td>\n",
              "      <td>1.000000</td>\n",
              "      <td>19.00000</td>\n",
              "      <td>1.000000</td>\n",
              "      <td>1.000000</td>\n",
              "      <td>1.000000</td>\n",
              "      <td>1.000000</td>\n",
              "      <td>1.000000</td>\n",
              "      <td>1.000000</td>\n",
              "      <td>1.000000</td>\n",
              "      <td>0.000000</td>\n",
              "    </tr>\n",
              "    <tr>\n",
              "      <th>25%</th>\n",
              "      <td>1.000000</td>\n",
              "      <td>12.000000</td>\n",
              "      <td>2.00000</td>\n",
              "      <td>1.000000</td>\n",
              "      <td>1365.50000</td>\n",
              "      <td>1.000000</td>\n",
              "      <td>3.000000</td>\n",
              "      <td>2.000000</td>\n",
              "      <td>2.00000</td>\n",
              "      <td>1.000000</td>\n",
              "      <td>...</td>\n",
              "      <td>1.000000</td>\n",
              "      <td>27.00000</td>\n",
              "      <td>3.000000</td>\n",
              "      <td>2.000000</td>\n",
              "      <td>1.000000</td>\n",
              "      <td>3.000000</td>\n",
              "      <td>2.000000</td>\n",
              "      <td>1.000000</td>\n",
              "      <td>2.000000</td>\n",
              "      <td>0.000000</td>\n",
              "    </tr>\n",
              "    <tr>\n",
              "      <th>50%</th>\n",
              "      <td>2.000000</td>\n",
              "      <td>18.000000</td>\n",
              "      <td>2.00000</td>\n",
              "      <td>2.000000</td>\n",
              "      <td>2319.50000</td>\n",
              "      <td>1.000000</td>\n",
              "      <td>3.000000</td>\n",
              "      <td>3.000000</td>\n",
              "      <td>3.00000</td>\n",
              "      <td>1.000000</td>\n",
              "      <td>...</td>\n",
              "      <td>2.000000</td>\n",
              "      <td>33.00000</td>\n",
              "      <td>3.000000</td>\n",
              "      <td>2.000000</td>\n",
              "      <td>1.000000</td>\n",
              "      <td>3.000000</td>\n",
              "      <td>2.000000</td>\n",
              "      <td>1.000000</td>\n",
              "      <td>2.000000</td>\n",
              "      <td>1.000000</td>\n",
              "    </tr>\n",
              "    <tr>\n",
              "      <th>75%</th>\n",
              "      <td>4.000000</td>\n",
              "      <td>24.000000</td>\n",
              "      <td>4.00000</td>\n",
              "      <td>3.000000</td>\n",
              "      <td>3972.25000</td>\n",
              "      <td>3.000000</td>\n",
              "      <td>5.000000</td>\n",
              "      <td>4.000000</td>\n",
              "      <td>3.00000</td>\n",
              "      <td>1.000000</td>\n",
              "      <td>...</td>\n",
              "      <td>3.000000</td>\n",
              "      <td>42.00000</td>\n",
              "      <td>3.000000</td>\n",
              "      <td>2.000000</td>\n",
              "      <td>2.000000</td>\n",
              "      <td>3.000000</td>\n",
              "      <td>2.000000</td>\n",
              "      <td>2.000000</td>\n",
              "      <td>2.000000</td>\n",
              "      <td>1.000000</td>\n",
              "    </tr>\n",
              "    <tr>\n",
              "      <th>max</th>\n",
              "      <td>4.000000</td>\n",
              "      <td>72.000000</td>\n",
              "      <td>4.00000</td>\n",
              "      <td>10.000000</td>\n",
              "      <td>18424.00000</td>\n",
              "      <td>5.000000</td>\n",
              "      <td>5.000000</td>\n",
              "      <td>4.000000</td>\n",
              "      <td>4.00000</td>\n",
              "      <td>3.000000</td>\n",
              "      <td>...</td>\n",
              "      <td>4.000000</td>\n",
              "      <td>75.00000</td>\n",
              "      <td>3.000000</td>\n",
              "      <td>3.000000</td>\n",
              "      <td>4.000000</td>\n",
              "      <td>4.000000</td>\n",
              "      <td>2.000000</td>\n",
              "      <td>2.000000</td>\n",
              "      <td>2.000000</td>\n",
              "      <td>1.000000</td>\n",
              "    </tr>\n",
              "  </tbody>\n",
              "</table>\n",
              "<p>8 rows × 21 columns</p>\n",
              "</div>\n",
              "      <button class=\"colab-df-convert\" onclick=\"convertToInteractive('df-9d9d9a1e-91e3-48ea-b2e1-48f585bfc139')\"\n",
              "              title=\"Convert this dataframe to an interactive table.\"\n",
              "              style=\"display:none;\">\n",
              "        \n",
              "  <svg xmlns=\"http://www.w3.org/2000/svg\" height=\"24px\"viewBox=\"0 0 24 24\"\n",
              "       width=\"24px\">\n",
              "    <path d=\"M0 0h24v24H0V0z\" fill=\"none\"/>\n",
              "    <path d=\"M18.56 5.44l.94 2.06.94-2.06 2.06-.94-2.06-.94-.94-2.06-.94 2.06-2.06.94zm-11 1L8.5 8.5l.94-2.06 2.06-.94-2.06-.94L8.5 2.5l-.94 2.06-2.06.94zm10 10l.94 2.06.94-2.06 2.06-.94-2.06-.94-.94-2.06-.94 2.06-2.06.94z\"/><path d=\"M17.41 7.96l-1.37-1.37c-.4-.4-.92-.59-1.43-.59-.52 0-1.04.2-1.43.59L10.3 9.45l-7.72 7.72c-.78.78-.78 2.05 0 2.83L4 21.41c.39.39.9.59 1.41.59.51 0 1.02-.2 1.41-.59l7.78-7.78 2.81-2.81c.8-.78.8-2.07 0-2.86zM5.41 20L4 18.59l7.72-7.72 1.47 1.35L5.41 20z\"/>\n",
              "  </svg>\n",
              "      </button>\n",
              "      \n",
              "  <style>\n",
              "    .colab-df-container {\n",
              "      display:flex;\n",
              "      flex-wrap:wrap;\n",
              "      gap: 12px;\n",
              "    }\n",
              "\n",
              "    .colab-df-convert {\n",
              "      background-color: #E8F0FE;\n",
              "      border: none;\n",
              "      border-radius: 50%;\n",
              "      cursor: pointer;\n",
              "      display: none;\n",
              "      fill: #1967D2;\n",
              "      height: 32px;\n",
              "      padding: 0 0 0 0;\n",
              "      width: 32px;\n",
              "    }\n",
              "\n",
              "    .colab-df-convert:hover {\n",
              "      background-color: #E2EBFA;\n",
              "      box-shadow: 0px 1px 2px rgba(60, 64, 67, 0.3), 0px 1px 3px 1px rgba(60, 64, 67, 0.15);\n",
              "      fill: #174EA6;\n",
              "    }\n",
              "\n",
              "    [theme=dark] .colab-df-convert {\n",
              "      background-color: #3B4455;\n",
              "      fill: #D2E3FC;\n",
              "    }\n",
              "\n",
              "    [theme=dark] .colab-df-convert:hover {\n",
              "      background-color: #434B5C;\n",
              "      box-shadow: 0px 1px 3px 1px rgba(0, 0, 0, 0.15);\n",
              "      filter: drop-shadow(0px 1px 2px rgba(0, 0, 0, 0.3));\n",
              "      fill: #FFFFFF;\n",
              "    }\n",
              "  </style>\n",
              "\n",
              "      <script>\n",
              "        const buttonEl =\n",
              "          document.querySelector('#df-9d9d9a1e-91e3-48ea-b2e1-48f585bfc139 button.colab-df-convert');\n",
              "        buttonEl.style.display =\n",
              "          google.colab.kernel.accessAllowed ? 'block' : 'none';\n",
              "\n",
              "        async function convertToInteractive(key) {\n",
              "          const element = document.querySelector('#df-9d9d9a1e-91e3-48ea-b2e1-48f585bfc139');\n",
              "          const dataTable =\n",
              "            await google.colab.kernel.invokeFunction('convertToInteractive',\n",
              "                                                     [key], {});\n",
              "          if (!dataTable) return;\n",
              "\n",
              "          const docLinkHtml = 'Like what you see? Visit the ' +\n",
              "            '<a target=\"_blank\" href=https://colab.research.google.com/notebooks/data_table.ipynb>data table notebook</a>'\n",
              "            + ' to learn more about interactive tables.';\n",
              "          element.innerHTML = '';\n",
              "          dataTable['output_type'] = 'display_data';\n",
              "          await google.colab.output.renderOutput(dataTable, element);\n",
              "          const docLink = document.createElement('div');\n",
              "          docLink.innerHTML = docLinkHtml;\n",
              "          element.appendChild(docLink);\n",
              "        }\n",
              "      </script>\n",
              "    </div>\n",
              "  </div>\n",
              "  "
            ]
          },
          "metadata": {},
          "execution_count": 76
        }
      ]
    },
    {
      "cell_type": "code",
      "source": [
        "#Traduccion de los nombres de las columnas de aleman a ingles en la variable df_copy\n",
        "df_copy = df.copy()\n",
        "translated_cols = [\"status\", \"duration\", \"credit_history\", \"purpose\", \"amount\", \"savings\", \n",
        "                   \"employment_duration\", \"installment_rate\", \"personal_status_sex\", \n",
        "                   \"other_debtors\", \"present_residence\", \"property\", \"age\", \"other_installment_plans\", \"housing\",\n",
        "                   \"number_credits\", \"job\", \"people_liable\", \"telephone\", \"foreign_worker\", \"credit_risk\"]\n",
        "\n",
        "df_copy.columns = translated_cols\n",
        "df_copy"
      ],
      "metadata": {
        "id": "0ulkqXVGCy97",
        "colab": {
          "base_uri": "https://localhost:8080/",
          "height": 488
        },
        "outputId": "9c8c3a2f-a25c-4090-9e95-ff247dc430a1"
      },
      "execution_count": 77,
      "outputs": [
        {
          "output_type": "execute_result",
          "data": {
            "text/plain": [
              "     status  duration  credit_history  purpose  amount  savings  \\\n",
              "0         1        18               4        2    1049        1   \n",
              "1         1         9               4        0    2799        1   \n",
              "2         2        12               2        9     841        2   \n",
              "3         1        12               4        0    2122        1   \n",
              "4         1        12               4        0    2171        1   \n",
              "..      ...       ...             ...      ...     ...      ...   \n",
              "995       1        24               2        3    1987        1   \n",
              "996       1        24               2        0    2303        1   \n",
              "997       4        21               4        0   12680        5   \n",
              "998       2        12               2        3    6468        5   \n",
              "999       1        30               2        2    6350        5   \n",
              "\n",
              "     employment_duration  installment_rate  personal_status_sex  \\\n",
              "0                      2                 4                    2   \n",
              "1                      3                 2                    3   \n",
              "2                      4                 2                    2   \n",
              "3                      3                 3                    3   \n",
              "4                      3                 4                    3   \n",
              "..                   ...               ...                  ...   \n",
              "995                    3                 2                    3   \n",
              "996                    5                 4                    3   \n",
              "997                    5                 4                    3   \n",
              "998                    1                 2                    3   \n",
              "999                    5                 4                    3   \n",
              "\n",
              "     other_debtors  ...  property  age  other_installment_plans  housing  \\\n",
              "0                1  ...         2   21                        3        1   \n",
              "1                1  ...         1   36                        3        1   \n",
              "2                1  ...         1   23                        3        1   \n",
              "3                1  ...         1   39                        3        1   \n",
              "4                1  ...         2   38                        1        2   \n",
              "..             ...  ...       ...  ...                      ...      ...   \n",
              "995              1  ...         1   21                        3        1   \n",
              "996              2  ...         1   45                        3        2   \n",
              "997              1  ...         4   30                        3        3   \n",
              "998              1  ...         4   52                        3        2   \n",
              "999              1  ...         2   31                        3        2   \n",
              "\n",
              "     number_credits  job  people_liable  telephone  foreign_worker  \\\n",
              "0                 1    3              2          1               2   \n",
              "1                 2    3              1          1               2   \n",
              "2                 1    2              2          1               2   \n",
              "3                 2    2              1          1               1   \n",
              "4                 2    2              2          1               1   \n",
              "..              ...  ...            ...        ...             ...   \n",
              "995               1    2              1          1               2   \n",
              "996               1    3              2          1               2   \n",
              "997               1    4              2          2               2   \n",
              "998               1    4              2          2               2   \n",
              "999               1    3              2          1               2   \n",
              "\n",
              "     credit_risk  \n",
              "0              1  \n",
              "1              1  \n",
              "2              1  \n",
              "3              1  \n",
              "4              1  \n",
              "..           ...  \n",
              "995            0  \n",
              "996            0  \n",
              "997            0  \n",
              "998            0  \n",
              "999            0  \n",
              "\n",
              "[1000 rows x 21 columns]"
            ],
            "text/html": [
              "\n",
              "  <div id=\"df-68abcf18-8cd1-45c6-b329-a6861685a406\">\n",
              "    <div class=\"colab-df-container\">\n",
              "      <div>\n",
              "<style scoped>\n",
              "    .dataframe tbody tr th:only-of-type {\n",
              "        vertical-align: middle;\n",
              "    }\n",
              "\n",
              "    .dataframe tbody tr th {\n",
              "        vertical-align: top;\n",
              "    }\n",
              "\n",
              "    .dataframe thead th {\n",
              "        text-align: right;\n",
              "    }\n",
              "</style>\n",
              "<table border=\"1\" class=\"dataframe\">\n",
              "  <thead>\n",
              "    <tr style=\"text-align: right;\">\n",
              "      <th></th>\n",
              "      <th>status</th>\n",
              "      <th>duration</th>\n",
              "      <th>credit_history</th>\n",
              "      <th>purpose</th>\n",
              "      <th>amount</th>\n",
              "      <th>savings</th>\n",
              "      <th>employment_duration</th>\n",
              "      <th>installment_rate</th>\n",
              "      <th>personal_status_sex</th>\n",
              "      <th>other_debtors</th>\n",
              "      <th>...</th>\n",
              "      <th>property</th>\n",
              "      <th>age</th>\n",
              "      <th>other_installment_plans</th>\n",
              "      <th>housing</th>\n",
              "      <th>number_credits</th>\n",
              "      <th>job</th>\n",
              "      <th>people_liable</th>\n",
              "      <th>telephone</th>\n",
              "      <th>foreign_worker</th>\n",
              "      <th>credit_risk</th>\n",
              "    </tr>\n",
              "  </thead>\n",
              "  <tbody>\n",
              "    <tr>\n",
              "      <th>0</th>\n",
              "      <td>1</td>\n",
              "      <td>18</td>\n",
              "      <td>4</td>\n",
              "      <td>2</td>\n",
              "      <td>1049</td>\n",
              "      <td>1</td>\n",
              "      <td>2</td>\n",
              "      <td>4</td>\n",
              "      <td>2</td>\n",
              "      <td>1</td>\n",
              "      <td>...</td>\n",
              "      <td>2</td>\n",
              "      <td>21</td>\n",
              "      <td>3</td>\n",
              "      <td>1</td>\n",
              "      <td>1</td>\n",
              "      <td>3</td>\n",
              "      <td>2</td>\n",
              "      <td>1</td>\n",
              "      <td>2</td>\n",
              "      <td>1</td>\n",
              "    </tr>\n",
              "    <tr>\n",
              "      <th>1</th>\n",
              "      <td>1</td>\n",
              "      <td>9</td>\n",
              "      <td>4</td>\n",
              "      <td>0</td>\n",
              "      <td>2799</td>\n",
              "      <td>1</td>\n",
              "      <td>3</td>\n",
              "      <td>2</td>\n",
              "      <td>3</td>\n",
              "      <td>1</td>\n",
              "      <td>...</td>\n",
              "      <td>1</td>\n",
              "      <td>36</td>\n",
              "      <td>3</td>\n",
              "      <td>1</td>\n",
              "      <td>2</td>\n",
              "      <td>3</td>\n",
              "      <td>1</td>\n",
              "      <td>1</td>\n",
              "      <td>2</td>\n",
              "      <td>1</td>\n",
              "    </tr>\n",
              "    <tr>\n",
              "      <th>2</th>\n",
              "      <td>2</td>\n",
              "      <td>12</td>\n",
              "      <td>2</td>\n",
              "      <td>9</td>\n",
              "      <td>841</td>\n",
              "      <td>2</td>\n",
              "      <td>4</td>\n",
              "      <td>2</td>\n",
              "      <td>2</td>\n",
              "      <td>1</td>\n",
              "      <td>...</td>\n",
              "      <td>1</td>\n",
              "      <td>23</td>\n",
              "      <td>3</td>\n",
              "      <td>1</td>\n",
              "      <td>1</td>\n",
              "      <td>2</td>\n",
              "      <td>2</td>\n",
              "      <td>1</td>\n",
              "      <td>2</td>\n",
              "      <td>1</td>\n",
              "    </tr>\n",
              "    <tr>\n",
              "      <th>3</th>\n",
              "      <td>1</td>\n",
              "      <td>12</td>\n",
              "      <td>4</td>\n",
              "      <td>0</td>\n",
              "      <td>2122</td>\n",
              "      <td>1</td>\n",
              "      <td>3</td>\n",
              "      <td>3</td>\n",
              "      <td>3</td>\n",
              "      <td>1</td>\n",
              "      <td>...</td>\n",
              "      <td>1</td>\n",
              "      <td>39</td>\n",
              "      <td>3</td>\n",
              "      <td>1</td>\n",
              "      <td>2</td>\n",
              "      <td>2</td>\n",
              "      <td>1</td>\n",
              "      <td>1</td>\n",
              "      <td>1</td>\n",
              "      <td>1</td>\n",
              "    </tr>\n",
              "    <tr>\n",
              "      <th>4</th>\n",
              "      <td>1</td>\n",
              "      <td>12</td>\n",
              "      <td>4</td>\n",
              "      <td>0</td>\n",
              "      <td>2171</td>\n",
              "      <td>1</td>\n",
              "      <td>3</td>\n",
              "      <td>4</td>\n",
              "      <td>3</td>\n",
              "      <td>1</td>\n",
              "      <td>...</td>\n",
              "      <td>2</td>\n",
              "      <td>38</td>\n",
              "      <td>1</td>\n",
              "      <td>2</td>\n",
              "      <td>2</td>\n",
              "      <td>2</td>\n",
              "      <td>2</td>\n",
              "      <td>1</td>\n",
              "      <td>1</td>\n",
              "      <td>1</td>\n",
              "    </tr>\n",
              "    <tr>\n",
              "      <th>...</th>\n",
              "      <td>...</td>\n",
              "      <td>...</td>\n",
              "      <td>...</td>\n",
              "      <td>...</td>\n",
              "      <td>...</td>\n",
              "      <td>...</td>\n",
              "      <td>...</td>\n",
              "      <td>...</td>\n",
              "      <td>...</td>\n",
              "      <td>...</td>\n",
              "      <td>...</td>\n",
              "      <td>...</td>\n",
              "      <td>...</td>\n",
              "      <td>...</td>\n",
              "      <td>...</td>\n",
              "      <td>...</td>\n",
              "      <td>...</td>\n",
              "      <td>...</td>\n",
              "      <td>...</td>\n",
              "      <td>...</td>\n",
              "      <td>...</td>\n",
              "    </tr>\n",
              "    <tr>\n",
              "      <th>995</th>\n",
              "      <td>1</td>\n",
              "      <td>24</td>\n",
              "      <td>2</td>\n",
              "      <td>3</td>\n",
              "      <td>1987</td>\n",
              "      <td>1</td>\n",
              "      <td>3</td>\n",
              "      <td>2</td>\n",
              "      <td>3</td>\n",
              "      <td>1</td>\n",
              "      <td>...</td>\n",
              "      <td>1</td>\n",
              "      <td>21</td>\n",
              "      <td>3</td>\n",
              "      <td>1</td>\n",
              "      <td>1</td>\n",
              "      <td>2</td>\n",
              "      <td>1</td>\n",
              "      <td>1</td>\n",
              "      <td>2</td>\n",
              "      <td>0</td>\n",
              "    </tr>\n",
              "    <tr>\n",
              "      <th>996</th>\n",
              "      <td>1</td>\n",
              "      <td>24</td>\n",
              "      <td>2</td>\n",
              "      <td>0</td>\n",
              "      <td>2303</td>\n",
              "      <td>1</td>\n",
              "      <td>5</td>\n",
              "      <td>4</td>\n",
              "      <td>3</td>\n",
              "      <td>2</td>\n",
              "      <td>...</td>\n",
              "      <td>1</td>\n",
              "      <td>45</td>\n",
              "      <td>3</td>\n",
              "      <td>2</td>\n",
              "      <td>1</td>\n",
              "      <td>3</td>\n",
              "      <td>2</td>\n",
              "      <td>1</td>\n",
              "      <td>2</td>\n",
              "      <td>0</td>\n",
              "    </tr>\n",
              "    <tr>\n",
              "      <th>997</th>\n",
              "      <td>4</td>\n",
              "      <td>21</td>\n",
              "      <td>4</td>\n",
              "      <td>0</td>\n",
              "      <td>12680</td>\n",
              "      <td>5</td>\n",
              "      <td>5</td>\n",
              "      <td>4</td>\n",
              "      <td>3</td>\n",
              "      <td>1</td>\n",
              "      <td>...</td>\n",
              "      <td>4</td>\n",
              "      <td>30</td>\n",
              "      <td>3</td>\n",
              "      <td>3</td>\n",
              "      <td>1</td>\n",
              "      <td>4</td>\n",
              "      <td>2</td>\n",
              "      <td>2</td>\n",
              "      <td>2</td>\n",
              "      <td>0</td>\n",
              "    </tr>\n",
              "    <tr>\n",
              "      <th>998</th>\n",
              "      <td>2</td>\n",
              "      <td>12</td>\n",
              "      <td>2</td>\n",
              "      <td>3</td>\n",
              "      <td>6468</td>\n",
              "      <td>5</td>\n",
              "      <td>1</td>\n",
              "      <td>2</td>\n",
              "      <td>3</td>\n",
              "      <td>1</td>\n",
              "      <td>...</td>\n",
              "      <td>4</td>\n",
              "      <td>52</td>\n",
              "      <td>3</td>\n",
              "      <td>2</td>\n",
              "      <td>1</td>\n",
              "      <td>4</td>\n",
              "      <td>2</td>\n",
              "      <td>2</td>\n",
              "      <td>2</td>\n",
              "      <td>0</td>\n",
              "    </tr>\n",
              "    <tr>\n",
              "      <th>999</th>\n",
              "      <td>1</td>\n",
              "      <td>30</td>\n",
              "      <td>2</td>\n",
              "      <td>2</td>\n",
              "      <td>6350</td>\n",
              "      <td>5</td>\n",
              "      <td>5</td>\n",
              "      <td>4</td>\n",
              "      <td>3</td>\n",
              "      <td>1</td>\n",
              "      <td>...</td>\n",
              "      <td>2</td>\n",
              "      <td>31</td>\n",
              "      <td>3</td>\n",
              "      <td>2</td>\n",
              "      <td>1</td>\n",
              "      <td>3</td>\n",
              "      <td>2</td>\n",
              "      <td>1</td>\n",
              "      <td>2</td>\n",
              "      <td>0</td>\n",
              "    </tr>\n",
              "  </tbody>\n",
              "</table>\n",
              "<p>1000 rows × 21 columns</p>\n",
              "</div>\n",
              "      <button class=\"colab-df-convert\" onclick=\"convertToInteractive('df-68abcf18-8cd1-45c6-b329-a6861685a406')\"\n",
              "              title=\"Convert this dataframe to an interactive table.\"\n",
              "              style=\"display:none;\">\n",
              "        \n",
              "  <svg xmlns=\"http://www.w3.org/2000/svg\" height=\"24px\"viewBox=\"0 0 24 24\"\n",
              "       width=\"24px\">\n",
              "    <path d=\"M0 0h24v24H0V0z\" fill=\"none\"/>\n",
              "    <path d=\"M18.56 5.44l.94 2.06.94-2.06 2.06-.94-2.06-.94-.94-2.06-.94 2.06-2.06.94zm-11 1L8.5 8.5l.94-2.06 2.06-.94-2.06-.94L8.5 2.5l-.94 2.06-2.06.94zm10 10l.94 2.06.94-2.06 2.06-.94-2.06-.94-.94-2.06-.94 2.06-2.06.94z\"/><path d=\"M17.41 7.96l-1.37-1.37c-.4-.4-.92-.59-1.43-.59-.52 0-1.04.2-1.43.59L10.3 9.45l-7.72 7.72c-.78.78-.78 2.05 0 2.83L4 21.41c.39.39.9.59 1.41.59.51 0 1.02-.2 1.41-.59l7.78-7.78 2.81-2.81c.8-.78.8-2.07 0-2.86zM5.41 20L4 18.59l7.72-7.72 1.47 1.35L5.41 20z\"/>\n",
              "  </svg>\n",
              "      </button>\n",
              "      \n",
              "  <style>\n",
              "    .colab-df-container {\n",
              "      display:flex;\n",
              "      flex-wrap:wrap;\n",
              "      gap: 12px;\n",
              "    }\n",
              "\n",
              "    .colab-df-convert {\n",
              "      background-color: #E8F0FE;\n",
              "      border: none;\n",
              "      border-radius: 50%;\n",
              "      cursor: pointer;\n",
              "      display: none;\n",
              "      fill: #1967D2;\n",
              "      height: 32px;\n",
              "      padding: 0 0 0 0;\n",
              "      width: 32px;\n",
              "    }\n",
              "\n",
              "    .colab-df-convert:hover {\n",
              "      background-color: #E2EBFA;\n",
              "      box-shadow: 0px 1px 2px rgba(60, 64, 67, 0.3), 0px 1px 3px 1px rgba(60, 64, 67, 0.15);\n",
              "      fill: #174EA6;\n",
              "    }\n",
              "\n",
              "    [theme=dark] .colab-df-convert {\n",
              "      background-color: #3B4455;\n",
              "      fill: #D2E3FC;\n",
              "    }\n",
              "\n",
              "    [theme=dark] .colab-df-convert:hover {\n",
              "      background-color: #434B5C;\n",
              "      box-shadow: 0px 1px 3px 1px rgba(0, 0, 0, 0.15);\n",
              "      filter: drop-shadow(0px 1px 2px rgba(0, 0, 0, 0.3));\n",
              "      fill: #FFFFFF;\n",
              "    }\n",
              "  </style>\n",
              "\n",
              "      <script>\n",
              "        const buttonEl =\n",
              "          document.querySelector('#df-68abcf18-8cd1-45c6-b329-a6861685a406 button.colab-df-convert');\n",
              "        buttonEl.style.display =\n",
              "          google.colab.kernel.accessAllowed ? 'block' : 'none';\n",
              "\n",
              "        async function convertToInteractive(key) {\n",
              "          const element = document.querySelector('#df-68abcf18-8cd1-45c6-b329-a6861685a406');\n",
              "          const dataTable =\n",
              "            await google.colab.kernel.invokeFunction('convertToInteractive',\n",
              "                                                     [key], {});\n",
              "          if (!dataTable) return;\n",
              "\n",
              "          const docLinkHtml = 'Like what you see? Visit the ' +\n",
              "            '<a target=\"_blank\" href=https://colab.research.google.com/notebooks/data_table.ipynb>data table notebook</a>'\n",
              "            + ' to learn more about interactive tables.';\n",
              "          element.innerHTML = '';\n",
              "          dataTable['output_type'] = 'display_data';\n",
              "          await google.colab.output.renderOutput(dataTable, element);\n",
              "          const docLink = document.createElement('div');\n",
              "          docLink.innerHTML = docLinkHtml;\n",
              "          element.appendChild(docLink);\n",
              "        }\n",
              "      </script>\n",
              "    </div>\n",
              "  </div>\n",
              "  "
            ]
          },
          "metadata": {},
          "execution_count": 77
        }
      ]
    },
    {
      "cell_type": "markdown",
      "source": [
        "#**Ejercicio-2.**"
      ],
      "metadata": {
        "id": "xZhr2hkECzVv"
      }
    },
    {
      "cell_type": "markdown",
      "source": [
        "Realiza una partición de los datos en el conjunto de entrenamiento del 85% y el de prueba de 15%. Los modelos se estarán entrenando con el método de validación cruzada, así que no es necesario en este paso generar el conjunto de validación. Define como la variable X a todas las variables de entrada y a la variable Y como la variable de salida."
      ],
      "metadata": {
        "id": "oCTV6IcefjG0"
      }
    },
    {
      "cell_type": "code",
      "source": [
        "#Creacion de matrices con variables independientes X y variable dependiente Y \n",
        "X = df_copy.iloc[:,0:20] \n",
        "y = df_copy['credit_risk'] #Usamos corchetes simples para recibir una lista (1d y no tener que usar np.ravel(y) en cross validation)\n",
        "print(X.shape)\n",
        "print(y.shape)"
      ],
      "metadata": {
        "id": "kGfAoOPkC1PP",
        "colab": {
          "base_uri": "https://localhost:8080/"
        },
        "outputId": "2e02a040-b4b6-44b5-ce11-bee632c26b0e"
      },
      "execution_count": 78,
      "outputs": [
        {
          "output_type": "stream",
          "name": "stdout",
          "text": [
            "(1000, 20)\n",
            "(1000,)\n"
          ]
        }
      ]
    },
    {
      "cell_type": "code",
      "source": [
        "#Particion del conjunto de entrenamiento del 85% y del de prueba de 15%\n",
        "Xtv, Xtest, ytv, ytest = train_test_split(X, y, test_size = 0.15, random_state = 7)\n",
        "print('Dimensión del conjunto de entrenamiento variables independientes: ', Xtv.shape)\n",
        "print('Dimensión del conjunto de prueba variables independientes: ', Xtest.shape, '\\n')\n",
        "print('Dimensión del conjunto de entrenamiento variable dependiente: ', ytv.shape)\n",
        "print('Dimensión del conjunto de prueba variable dependiente: ', ytest.shape)"
      ],
      "metadata": {
        "id": "593LJq3PFIH4",
        "colab": {
          "base_uri": "https://localhost:8080/"
        },
        "outputId": "14d2382f-353f-4830-e002-bc9075d8a3db"
      },
      "execution_count": 79,
      "outputs": [
        {
          "output_type": "stream",
          "name": "stdout",
          "text": [
            "Dimensión del conjunto de entrenamiento variables independientes:  (850, 20)\n",
            "Dimensión del conjunto de prueba variables independientes:  (150, 20) \n",
            "\n",
            "Dimensión del conjunto de entrenamiento variable dependiente:  (850,)\n",
            "Dimensión del conjunto de prueba variable dependiente:  (150,)\n"
          ]
        }
      ]
    },
    {
      "cell_type": "markdown",
      "source": [
        "#**Ejercicio-3.**"
      ],
      "metadata": {
        "id": "NCunuooTC2W3"
      }
    },
    {
      "cell_type": "markdown",
      "source": [
        "Como una primera aproximación (baseline) realizarás las siguientes transformaciones mínimas para generar los primeros modelos. En la misma página de la UCI se indica el tipo de variable de cada uno de los factores. Definen cuatro tipo de variables: categórica (categorical), ordinal (discretized quantitative), numérica (quantitative) y binaria (binary). Con base a dicha información realiza un Pipeline que incluya al menos las siguientes transformaciones:\n",
        "\n",
        "a. Imputación a todas las variables de entrada, diferenciando entre el tipo de cada variable (decide y justifica que tipo de imputación realizas en cada caso).\n",
        "\n",
        "b. Realiza un análisis de las variables numéricas (quantitative) de entrada y aplica una transformación que escale a todas ellas en un rango equiparable.\n",
        "\n",
        "c. Aplica la transformación One-Hot encoding a las variables de entrada de tipo categórico y binaria. En particular, justifica por qué una variable binaria requeriría que se le aplique la transformación one-hot encoding. Por el momento dejar las variables ordinales sin transformar."
      ],
      "metadata": {
        "id": "e_mM_sXQfgLx"
      }
    },
    {
      "cell_type": "code",
      "source": [
        "# Definimos las columnas que corresponden a cada tipo de dato\n",
        "\n",
        "#Se establecen como variables categoricas aquellas que tienen un numero finito de valores posibles\n",
        "names_pipeline_cat = ['status','credit_history','purpose','savings','personal_status_sex','other_debtors','other_installment_plans','housing'] \n",
        "\n",
        "#Se establecen como variables numericas aquellas que contienen un numero muy grande de valores enteros posibles \n",
        "names_pipeline_num = ['duration','amount','age']\n",
        "\n",
        "#Se establecen como variables binarias aquellas que solo tienen dos valores posibles\n",
        "names_pipeline_bin = ['people_liable','telephone','foreign_worker']\n",
        "\n",
        "#Se establecen como variables ordinales aquellas variables que son categoricas y que tienen un orden logico entre sus valores. \n",
        "#Por ejemplo, la variable employment duration tiene valores entre 1 y 5, donde 1 es desempleado, 2 empleado hace menos de un año y asi en adeltante\n",
        "# Estas variables cuentan con valores que tienen una correlación con la variable a la que representan \n",
        "# (A mayor valor de la variable ordinal, mayor impacto tiene esto en la representación de la variable a la que esta representando).\n",
        "\n",
        "names_pipeline_ord = ['employment_duration','installment_rate','present_residence','property','number_credits','job']\n",
        "\n",
        "#Se unen tanto categoricas como binarias para transformación futura\n",
        "\n",
        "names_pipeline_cat_bin = names_pipeline_cat + names_pipeline_bin\n"
      ],
      "metadata": {
        "id": "ZNaKJVZnNdHm"
      },
      "execution_count": 80,
      "outputs": []
    },
    {
      "cell_type": "code",
      "source": [
        "# Definimos las Pipelines\n",
        "\n",
        "# Transformaciones a factores categóricos de entrada: remplazo por moda y aplicación de OneHotEncoder para crear columnas Dummies\n",
        "pipeline_cat_bin = Pipeline(steps = [('impModa', SimpleImputer(strategy='most_frequent')),\n",
        "                                  ('OneHotE', OneHotEncoder(handle_unknown = 'ignore'))])\n",
        "\n",
        "# Transformaciones a factores numéricos de entrada: remplazo con promedio y escalación en rango 1 - 2\n",
        "pipeline_num = Pipeline(steps = [('impMediana', SimpleImputer(strategy='median')),\n",
        "                                 ('escalaNum', MinMaxScaler(feature_range=(1,2)))])\n",
        "\n",
        "# Aplicamos las transformaciones a las columnas correspondientes con ColumnTransformer\n",
        "\n",
        "transformaciones = ColumnTransformer( transformers = [\n",
        "                                                      ('numtrans', pipeline_num, names_pipeline_num ),\n",
        "                                                      ('catbintrans', pipeline_cat_bin, names_pipeline_cat_bin)],\n",
        "                                                      remainder='passthrough')"
      ],
      "metadata": {
        "id": "LctSo2HZM97y"
      },
      "execution_count": 81,
      "outputs": []
    },
    {
      "cell_type": "markdown",
      "source": [
        "#**Ejercicio-4.**"
      ],
      "metadata": {
        "id": "chqk9jIDC5Pq"
      }
    },
    {
      "cell_type": "code",
      "source": [
        "#Definimos los modelos que se compararán entre si\n",
        "def get_models():\n",
        "  modelos = list()\n",
        "  nombres = list()\n",
        "\n",
        "  # LR - Regresión Logística:\n",
        "  modelos.append(LogisticRegression(max_iter=3000))\n",
        "  nombres.append('LR')\n",
        "\n",
        "  # DT - Árbol de Decisión:\n",
        "  modelos.append(DecisionTreeClassifier())\n",
        "  nombres.append('DT')\n",
        "  \n",
        "  # RF - Random Forest:  \n",
        "  modelos.append(RandomForestClassifier())\n",
        "  nombres.append('RF')\n",
        "  \n",
        "\n",
        "  return modelos, nombres"
      ],
      "metadata": {
        "id": "RBVSFwK4C6g9"
      },
      "execution_count": 82,
      "outputs": []
    },
    {
      "cell_type": "code",
      "source": [
        "# Se definen las métricas: accuracy, precision, recall, f1-score y Gmean\n",
        "\n",
        "def nues_accuracy(yreal,ypred):\n",
        "  cm = confusion_matrix(yreal,ypred).ravel()\n",
        "  vn, fp, fn, vp = cm[0], cm[1], cm[2], cm[3]\n",
        "  accuracy = (vp + vn) / (vn + fp + fn + vp)\n",
        "  return accuracy\n",
        "\n",
        "def nues_precision(yreal,ypred):\n",
        "  cm = confusion_matrix(yreal,ypred).ravel()\n",
        "  vn, fp, fn, vp = cm[0], cm[1], cm[2], cm[3]\n",
        "  precision = vp / (vp + fp)\n",
        "  return precision\n",
        "\n",
        "def nues_recall(yreal,ypred):\n",
        "  cm = confusion_matrix(yreal,ypred).ravel()\n",
        "  vn, fp, fn, vp = cm[0], cm[1], cm[2], cm[3]\n",
        "  recall = vp / (vp + fn)\n",
        "  return recall\n",
        "\n",
        "def nues_f1score(yreal,ypred):\n",
        "  cm = confusion_matrix(yreal,ypred).ravel()\n",
        "  vn, fp, fn, vp = cm[0], cm[1], cm[2], cm[3]\n",
        "  f1score = (2*vp) / (2*vp + fp + fn)\n",
        "  return f1score\n",
        "\n",
        "def nues_gmean(yreal,ypred):\n",
        "  cm = confusion_matrix(yreal,ypred).ravel()\n",
        "  vn, fp, fn, vp = cm[0], cm[1], cm[2], cm[3]\n",
        "  recall,specifity = vp / (vp + fn), vn / (vn + fp)\n",
        "  gmean =  np.sqrt(recall*specifity)\n",
        "  return gmean\n",
        "  \n"
      ],
      "metadata": {
        "id": "qDLMgqqIQ56G"
      },
      "execution_count": 83,
      "outputs": []
    },
    {
      "cell_type": "code",
      "source": [
        "modelos, nombres = get_models()  # cargamos los modelos a comparar\n",
        "resultados = list()   \n",
        "\n",
        "for i in range(len(modelos)):\n",
        "\n",
        "  pipeline = Pipeline(steps=[('transformaciones',transformaciones),('m',modelos[i])])\n",
        "\n",
        "  cv = RepeatedStratifiedKFold(n_splits=5, n_repeats=3, random_state=7)\n",
        "\n",
        "  nuestras_metricas = {'accuracy':make_scorer(nues_accuracy),\n",
        "                       'precision':make_scorer(nues_precision),\n",
        "                       'recall':make_scorer(nues_recall),\n",
        "                       'f1score':make_scorer(nues_f1score),\n",
        "                       'gmean':make_scorer(nues_gmean)}\n",
        "\n",
        "  resultadoscv = cross_validate(pipeline, Xtv, np.ravel(ytv), scoring=nuestras_metricas, cv=cv, return_train_score=True)\n",
        "\n",
        "\n",
        "  resultados.append(resultadoscv)\n",
        "\n",
        "  print('Train Scores:\\n')\n",
        "  print('%s:\\nmean Accuracy: %.3f (%.4f)\\nmean Precision: %.3f (%.4f)\\nmean Recall: %.3f (%.4f)\\nmean f1score: %.3f (%.4f)\\nGmean: %.3f (%.4f)\\n' \n",
        "        % (nombres[i],\n",
        "                                                                          np.mean(resultadoscv['train_accuracy']),\n",
        "                                                                          np.std(resultadoscv['train_accuracy']), \n",
        "                                                                          np.mean(resultadoscv['train_precision']),\n",
        "                                                                          np.std(resultadoscv['train_precision']), \n",
        "                                                                          np.mean(resultadoscv['train_recall']),\n",
        "                                                                          np.std(resultadoscv['train_recall']),\n",
        "                                                                          np.mean(resultadoscv['train_f1score']),\n",
        "                                                                          np.std(resultadoscv['train_f1score']),\n",
        "                                                                          np.mean(resultadoscv['train_gmean']),\n",
        "                                                                          np.std(resultadoscv['train_gmean']),  \n",
        "                                                                          ))\n",
        "\n",
        "  print('\\nTest Scores (Validation):\\n')\n",
        "  print('%s:\\nmean Accuracy: %.3f (%.4f)\\nmean Precision: %.3f (%.4f)\\nmean Recall: %.3f (%.4f)\\nmean f1score: %.3f (%.4f)\\nGmean: %.3f (%.4f)\\n' \n",
        "        % (nombres[i],\n",
        "                                                                          np.mean(resultadoscv['test_accuracy']),\n",
        "                                                                          np.std(resultadoscv['test_accuracy']), \n",
        "                                                                          np.mean(resultadoscv['test_precision']),\n",
        "                                                                          np.std(resultadoscv['test_precision']), \n",
        "                                                                          np.mean(resultadoscv['test_recall']),\n",
        "                                                                          np.std(resultadoscv['test_recall']),\n",
        "                                                                          np.mean(resultadoscv['test_f1score']),\n",
        "                                                                          np.std(resultadoscv['test_f1score']),\n",
        "                                                                          np.mean(resultadoscv['test_gmean']),\n",
        "                                                                          np.std(resultadoscv['test_gmean']),  \n",
        "                                                                          ))\n"
      ],
      "metadata": {
        "id": "7KXnlNzAC69Y",
        "colab": {
          "base_uri": "https://localhost:8080/"
        },
        "outputId": "04825406-a27b-4c53-e325-51ae649afb78"
      },
      "execution_count": 84,
      "outputs": [
        {
          "output_type": "stream",
          "name": "stdout",
          "text": [
            "Train Scores:\n",
            "\n",
            "LR:\n",
            "mean Accuracy: 0.793 (0.0069)\n",
            "mean Precision: 0.818 (0.0062)\n",
            "mean Recall: 0.910 (0.0079)\n",
            "mean f1score: 0.862 (0.0046)\n",
            "Gmean: 0.679 (0.0136)\n",
            "\n",
            "\n",
            "Test Scores (Validation):\n",
            "\n",
            "LR:\n",
            "mean Accuracy: 0.759 (0.0239)\n",
            "mean Precision: 0.797 (0.0182)\n",
            "mean Recall: 0.886 (0.0255)\n",
            "mean f1score: 0.839 (0.0168)\n",
            "Gmean: 0.629 (0.0391)\n",
            "\n",
            "Train Scores:\n",
            "\n",
            "DT:\n",
            "mean Accuracy: 1.000 (0.0000)\n",
            "mean Precision: 1.000 (0.0000)\n",
            "mean Recall: 1.000 (0.0000)\n",
            "mean f1score: 1.000 (0.0000)\n",
            "Gmean: 1.000 (0.0000)\n",
            "\n",
            "\n",
            "Test Scores (Validation):\n",
            "\n",
            "DT:\n",
            "mean Accuracy: 0.680 (0.0372)\n",
            "mean Precision: 0.785 (0.0244)\n",
            "mean Recall: 0.757 (0.0454)\n",
            "mean f1score: 0.770 (0.0309)\n",
            "Gmean: 0.609 (0.0438)\n",
            "\n",
            "Train Scores:\n",
            "\n",
            "RF:\n",
            "mean Accuracy: 1.000 (0.0004)\n",
            "mean Precision: 1.000 (0.0005)\n",
            "mean Recall: 1.000 (0.0000)\n",
            "mean f1score: 1.000 (0.0003)\n",
            "Gmean: 1.000 (0.0006)\n",
            "\n",
            "\n",
            "Test Scores (Validation):\n",
            "\n",
            "RF:\n",
            "mean Accuracy: 0.748 (0.0249)\n",
            "mean Precision: 0.777 (0.0155)\n",
            "mean Recall: 0.904 (0.0341)\n",
            "mean f1score: 0.835 (0.0181)\n",
            "Gmean: 0.574 (0.0434)\n",
            "\n"
          ]
        }
      ]
    },
    {
      "cell_type": "code",
      "source": [
        "from matplotlib.axes import Subplot\n",
        "#Se muestra en un BoxPlot los resultados correspondientes a la métrica Recall de los tres modelos\n",
        "sns.set_theme(rc={'figure.figsize':(10,5)})\n",
        "fig, axes = plt.subplots(1, 2)\n",
        "axes[0].set_title(\"Train Recall\")\n",
        "axes[1].set_title(\"Validation Recall\")\n",
        "\n",
        "\n",
        "bpRecalltrain = list()\n",
        "bpRecalltest = list()\n",
        "\n",
        "for i in range(len(resultados)):\n",
        "  results = resultados[i]['train_recall']\n",
        "  bpRecalltrain.append(results)\n",
        "  \n",
        "for i in range(len(resultados)):\n",
        "  results = resultados[i]['test_recall']\n",
        "  bpRecalltest.append(results)\n",
        "\n",
        "plt.subplot(1,2,1)\n",
        "plt.boxplot(bpRecalltrain, labels=nombres, showmeans=True)\n",
        "plt.title(label=\"Train Recall\")\n",
        "plt.subplot(1,2,2)\n",
        "plt.boxplot(bpRecalltest, labels=nombres,showmeans = True)\n",
        "plt.title(label=\"Validation Recall\")\n",
        "\n",
        "plt.tight_layout()\n",
        "plt.show()\n",
        "\n"
      ],
      "metadata": {
        "colab": {
          "base_uri": "https://localhost:8080/",
          "height": 365
        },
        "id": "X620U_CjZNj5",
        "outputId": "f98cffae-7006-4581-babb-b0852978240e"
      },
      "execution_count": 36,
      "outputs": [
        {
          "output_type": "display_data",
          "data": {
            "text/plain": [
              "<Figure size 720x360 with 2 Axes>"
            ],
            "image/png": "[encoded data removed]"
          },
          "metadata": {}
        }
      ]
    },
    {
      "cell_type": "markdown",
      "source": [
        "En base a los diagramas de caja y bigotes podemos ver que mientras los resultados para los datos de validación son relativamente buenos para la regresión logística y para el Random Forest, vemos que tanto el arbol de decisión como el Random Forest presentan un recall del 100% para el conjunto de entrenamiento, lo que da indicios que fueron sobreentrenados, especialmente el árbol de decisión pues tuvo una caída de desempeño muy grande en el conjunto de validación"
      ],
      "metadata": {
        "id": "Zf9810-auQd1"
      }
    },
    {
      "cell_type": "markdown",
      "source": [
        "## Curvas de Aprendizaje"
      ],
      "metadata": {
        "id": "TQsjd0qwSz7Z"
      }
    },
    {
      "cell_type": "markdown",
      "source": [
        "### Definir nuestras curvas de Aprendizaje"
      ],
      "metadata": {
        "id": "e6bNCLPD0ZE1"
      }
    },
    {
      "cell_type": "markdown",
      "source": [
        "##### Curva de Aprendizaje"
      ],
      "metadata": {
        "id": "JSXAh1ct0kzT"
      }
    },
    {
      "cell_type": "code",
      "source": [
        "def nuestra_LearningCurvePlot(train_sizes, train_scores, val_scores, score):\n",
        "\n",
        "    train_mean = np.mean(train_scores, axis=1)\n",
        "    train_std = np.std(train_scores, axis=1)\n",
        "    val_mean = np.mean(val_scores, axis=1)\n",
        "    val_std = np.std(val_scores, axis=1)\n",
        "\n",
        "    plt.figure(figsize=(7,6))\n",
        "    plt.plot(train_sizes, train_mean, color='blue', marker='o', markersize=5, label='Training')\n",
        "    plt.fill_between(train_sizes, train_mean + train_std, train_mean - train_std, alpha=0.1, color='blue')\n",
        "    \n",
        "    plt.plot(train_sizes, val_mean, color='red', marker='+', markersize=5, linestyle='--', label='Validation')\n",
        "    plt.fill_between(train_sizes, val_mean + val_std, val_mean - val_std, alpha=0.1, color='red')\n",
        "    \n",
        "    plt.title('Curvas de Aprendizaje incrementando el tamaño de la muestra')\n",
        "    plt.xlabel('Tamaño del conjunto de entrenamiento')\n",
        "    plt.ylabel(f\"{score.__qualname__[5:]}\")\n",
        "    plt.grid()\n",
        "    plt.legend(loc='lower left')\n",
        "    plt.show()"
      ],
      "metadata": {
        "id": "9KZIjlFK0cPB"
      },
      "execution_count": 37,
      "outputs": []
    },
    {
      "cell_type": "markdown",
      "source": [
        "##### Curva de validación"
      ],
      "metadata": {
        "id": "rSW1PKAb0ojf"
      }
    },
    {
      "cell_type": "code",
      "source": [
        "def nuestra_ValidationCurvePlot(train_scores, val_scores, delta_depth_space, score):\n",
        "\n",
        "    train_mean = np.mean(train_scores, axis=1)\n",
        "    train_std = np.std(train_scores, axis=1)\n",
        "    val_mean = np.mean(val_scores, axis=1)\n",
        "    val_std = np.std(val_scores, axis=1)\n",
        "\n",
        "    plt.figure(figsize=(7,6))\n",
        "    plt.plot(delta_depth_space, train_mean, color='blue', marker='o', markersize=5, label='Training')\n",
        "    plt.fill_between(delta_depth_space, train_mean + train_std, train_mean - train_std, alpha=0.1, color='blue')\n",
        "    \n",
        "    plt.plot(delta_depth_space, val_mean, color='red', marker='+', markersize=5, linestyle='--', label='Validation')\n",
        "    plt.fill_between(delta_depth_space, val_mean + val_std, val_mean - val_std, alpha=0.1, color='red')\n",
        "    \n",
        "    plt.title('Curvas de Aprendizaje incrementando el tamaño de la muestra')\n",
        "    plt.xlabel('Profundidad del árbol')\n",
        "    plt.ylabel(f\"{score.__qualname__[5:]}\")\n",
        "    plt.grid()\n",
        "    plt.legend(loc='lower left')\n",
        "    plt.show()"
      ],
      "metadata": {
        "id": "IYZtEjTi0g7p"
      },
      "execution_count": 38,
      "outputs": []
    },
    {
      "cell_type": "markdown",
      "source": [
        "### Regresión Logística"
      ],
      "metadata": {
        "id": "AuQ9oC36UzKH"
      }
    },
    {
      "cell_type": "code",
      "source": [
        "def nues_ModeloYCurvasRL(Xin, indicemodelo, score):\n",
        "\n",
        "  modelos, nombres = get_models()\n",
        "\n",
        "  modelo = modelos[indicemodelo]\n",
        "  pipeline = Pipeline(steps=[('transformaciones',transformaciones), (\"modelo\", modelo)])\n",
        "  nues_cv = RepeatedStratifiedKFold(n_splits=5, n_repeats=3, random_state=11)\n",
        "  delta_train_space = np.linspace(0.1,1,20, endpoint = True) #20 puntos (comenzamos en 10%, pasamos a 14.7% y asi hasta el 100% de los datos de entrenamiento)\n",
        "\n",
        "  tr_sizes, tr_scores, val_scores = learning_curve(estimator = pipeline ,    \n",
        "                                                        X = Xtv,\n",
        "                                                        y = ytv,\n",
        "                                                        cv = nues_cv,\n",
        "                                                        scoring = make_scorer(score),                                               \n",
        "                                                        train_sizes = delta_train_space,\n",
        "                                                        random_state=11)\n",
        "       \n",
        "  nuestra_LearningCurvePlot(tr_sizes, tr_scores, val_scores, score)"
      ],
      "metadata": {
        "id": "6uNRfgaJ-FRS"
      },
      "execution_count": 39,
      "outputs": []
    },
    {
      "cell_type": "code",
      "source": [
        "print('Curvas de aprendizaje del modelo lineal:')\n",
        "nues_ModeloYCurvasRL(Xtv, 0, nues_f1score)"
      ],
      "metadata": {
        "colab": {
          "base_uri": "https://localhost:8080/",
          "height": 427
        },
        "id": "nrEtLEUD-XPe",
        "outputId": "8cdf6556-bb52-4efb-de36-e2510824abf6"
      },
      "execution_count": 40,
      "outputs": [
        {
          "output_type": "stream",
          "name": "stdout",
          "text": [
            "Curvas de aprendizaje del modelo lineal:\n"
          ]
        },
        {
          "output_type": "display_data",
          "data": {
            "text/plain": [
              "<Figure size 504x432 with 1 Axes>"
            ],
            "image/png": "[encoded data removed]"
          },
          "metadata": {}
        }
      ]
    },
    {
      "cell_type": "markdown",
      "source": [
        "### Árbol de decisión"
      ],
      "metadata": {
        "id": "aqisM_z0U54v"
      }
    },
    {
      "cell_type": "code",
      "source": [
        "def nues_ModeloYCurvasDT(Xin, indicemodelo, score ):\n",
        "\n",
        "  modelos, nombres = get_models()\n",
        "\n",
        "  Xtransf = transformaciones.fit_transform(Xtv)\n",
        "  modelo = modelos[indicemodelo]\n",
        "  pipeline = Pipeline(steps=[('transformaciones',transformaciones), (\"modelo\", modelo)])\n",
        "  nues_cv = RepeatedStratifiedKFold(n_splits=5, n_repeats=3, random_state=11)\n",
        "  delta_depth_space = np.linspace(1,20,20, endpoint = True) #20 puntos (comenzamos en 1, pasamos a 2 y así hasta 20)\n",
        "\n",
        "  train_scores, val_scores = validation_curve(estimator = modelo,    \n",
        "                                                        X = Xtransf,\n",
        "                                                        y = ytv,\n",
        "                                                        param_name = 'max_depth',\n",
        "                                                        param_range = delta_depth_space,\n",
        "                                                        cv = nues_cv,\n",
        "                                                        scoring = make_scorer(score)                                               \n",
        "                                                        )\n",
        "       \n",
        "  nuestra_ValidationCurvePlot(train_scores, val_scores, delta_depth_space, score)"
      ],
      "metadata": {
        "id": "jdH6LLDEMpOE"
      },
      "execution_count": 41,
      "outputs": []
    },
    {
      "cell_type": "code",
      "source": [
        "print('Curvas de aprendizaje del Arbol de decisión:')\n",
        "nues_ModeloYCurvasDT(Xtv, 1, nues_f1score)"
      ],
      "metadata": {
        "colab": {
          "base_uri": "https://localhost:8080/",
          "height": 427
        },
        "id": "4czAOQjbOAYx",
        "outputId": "113528fc-f988-4932-8c19-453dba0a6d90"
      },
      "execution_count": 42,
      "outputs": [
        {
          "output_type": "stream",
          "name": "stdout",
          "text": [
            "Curvas de aprendizaje del Arbol de decisión:\n"
          ]
        },
        {
          "output_type": "display_data",
          "data": {
            "text/plain": [
              "<Figure size 504x432 with 1 Axes>"
            ],
            "image/png": "[encoded data removed]"
          },
          "metadata": {}
        }
      ]
    },
    {
      "cell_type": "markdown",
      "source": [
        "### Bosque Aleatorio"
      ],
      "metadata": {
        "id": "ClNXoNopU9on"
      }
    },
    {
      "cell_type": "code",
      "source": [
        "def nues_ModeloYCurvasRF(Xin, indicemodelo, score):\n",
        "\n",
        "  modelos, nombres = get_models()\n",
        "\n",
        "  modelo = modelos[indicemodelo]\n",
        "  pipeline = Pipeline(steps=[('transformaciones',transformaciones), (\"modelo\", modelo)])\n",
        "  nues_cv = RepeatedStratifiedKFold(n_splits=5, n_repeats=3, random_state=11)\n",
        "  delta_train_space = np.linspace(0.1,1,20, endpoint = True) #20 puntos (comenzamos en 10%, pasamos a 14.7% y asi hasta el 100% de los datos de entrenamiento)\n",
        "\n",
        "  tr_sizes, tr_scores, val_scores = learning_curve(estimator = pipeline ,    \n",
        "                                                        X = Xtv,\n",
        "                                                        y = ytv,\n",
        "                                                        cv = nues_cv,\n",
        "                                                        scoring = make_scorer(score),                                               \n",
        "                                                        train_sizes = delta_train_space,\n",
        "                                                        random_state=11)\n",
        "       \n",
        "  nuestra_LearningCurvePlot(tr_sizes, tr_scores, val_scores, score)"
      ],
      "metadata": {
        "id": "GaV4Xo3pUvI6"
      },
      "execution_count": 43,
      "outputs": []
    },
    {
      "cell_type": "code",
      "source": [
        "print('Curvas de aprendizaje del Bosque Aleatorio:')\n",
        "nues_ModeloYCurvasRF(Xtv, 2, nues_recall)"
      ],
      "metadata": {
        "colab": {
          "base_uri": "https://localhost:8080/",
          "height": 421
        },
        "id": "MlR6maKVVJET",
        "outputId": "76eb3a8d-c472-4e39-ddf9-762b93a7120d"
      },
      "execution_count": 82,
      "outputs": [
        {
          "output_type": "stream",
          "name": "stdout",
          "text": [
            "Curvas de aprendizaje del Bosque Aleatorio:\n"
          ]
        },
        {
          "output_type": "display_data",
          "data": {
            "text/plain": [
              "<Figure size 504x432 with 1 Axes>"
            ],
            "image/png": "[encoded data removed]"
          },
          "metadata": {
            "needs_background": "light"
          }
        }
      ]
    },
    {
      "cell_type": "markdown",
      "source": [
        "### Todas las Curvas"
      ],
      "metadata": {
        "id": "PkCsFJUQVA8E"
      }
    },
    {
      "cell_type": "code",
      "source": [
        "'''#Se muestra en un BoxPlot los resultados correspondientes a la métrica Recall de los tres modelos\n",
        "sns.set_theme(rc={'figure.figsize':(21,18)})\n",
        "fig, axes = plt.subplots(1, 3)\n",
        "axes[0].set_title(\"Train - Val Logistic Regression\")\n",
        "axes[1].set_title(\"Train - Val Decision Tree\")\n",
        "axes[2].set_title(\"Train - Val Random Forest\")\n",
        "\n",
        "plt.subplot(1,3,1)\n",
        "nues_ModeloYCurvas(Xtv, 0)\n",
        "\n",
        "plt.subplot(1,3,2)\n",
        "nues_ModeloYCurvasDT(Xtv, 1)\n",
        "\n",
        "plt.subplot(1,3,3)\n",
        "nues_ModeloYCurvasRF(Xtv, 2)'''\n"
      ],
      "metadata": {
        "colab": {
          "base_uri": "https://localhost:8080/",
          "height": 70
        },
        "id": "WkTO7DQvJUMC",
        "outputId": "4fa65648-91f5-47a6-a362-86ee9c6770ba"
      },
      "execution_count": null,
      "outputs": [
        {
          "output_type": "execute_result",
          "data": {
            "text/plain": [
              "'#Se muestra en un BoxPlot los resultados correspondientes a la métrica Recall de los tres modelos\\nsns.set_theme(rc={\\'figure.figsize\\':(21,18)})\\nfig, axes = plt.subplots(1, 3)\\naxes[0].set_title(\"Train - Val Logistic Regression\")\\naxes[1].set_title(\"Train - Val Decision Tree\")\\naxes[2].set_title(\"Train - Val Random Forest\")\\n\\nplt.subplot(1,3,1)\\nnues_ModeloYCurvas(Xtv, 0)\\n\\nplt.subplot(1,3,2)\\nnues_ModeloYCurvasDT(Xtv, 1)\\n\\nplt.subplot(1,3,3)\\nnues_ModeloYCurvasRF(Xtv, 2)'"
            ],
            "application/vnd.google.colaboratory.intrinsic+json": {
              "type": "string"
            }
          },
          "metadata": {},
          "execution_count": 21
        }
      ]
    },
    {
      "cell_type": "markdown",
      "source": [
        "#**Ejercicio-5.**"
      ],
      "metadata": {
        "id": "Rv7KFq-mC7PS"
      }
    },
    {
      "cell_type": "markdown",
      "source": [
        "Finalmente veamos la manera de mejorar los valores de los hiperparámetros de cada modelo, así como el problema del sobreentrenamiento de algunos de ellos. Para ello deberás usar el método GridSearchCV() de scikit-learn. Recuerda que este método hace una búsqueda de los mejores hiperparámetros de un modelo mediante el llamada formato de malla y aplicando validación cruzada. En cada caso puedes incrementar el máximo de iteraciones,”max_iter” para que tengas la convergencia adecuada para todas las combinaciones en cada modelo. Recuerda también aplicar las transformaciones que definiste en tu Pipeline. Para fines de este ejercicio se ha seleccionado para cada modelo una métrica diferente, que permita irte familiarizando con ellas. Puedes consultar su documentación de GridSearchCV en la siguiente liga: https://scikit-learn.org/stable/modules/generated/sklearn.model_selection.GridSearchCV.html\n",
        "a. Para el modelo de regresión logística realizar el entrenamiento buscando sus mejores hiperparámetros con GridSearchCV(). Los hiperparámetros que debes incluir en su búsqueda deben ser al menos los siguientes: C, solver, class_weight y penalty. En este caso deberás usar la métrica (scoring) “f1-score”. Imprime la mejor combinación de parámetros obtenidos, así como el valor del mejor desempeño (score) obtenido con la métrica f1. ¿Cuál es la utilidad de la métrica “f1-score”? Incluye tus conclusiones. NOTA: Toma en cuenta que no todas las combinaciones de “solver” y “penalty” son posibles, para que lo tomes en cuenta al momento de realizar la búsqueda. Revisa la documentación.\n",
        "\n",
        "b. Con los mejores valores de los hiperparámetros encontrados con la métrica “f1-score” para el modelo de regresión logística, obtener las curvas de aprendizaje (learning curve), incrementando el tamaño del conjunto de entrenamiento al menos 20 veces. Si lo crees adecuado, puedes hacer los ajustes que consideres adecuados para mejorar el resultado y evitar el sobreentrenamiento o el subentrenamiento.\n",
        "\n",
        "c. Para el modelo de árbol de decisión (decision tree) realizar el entrenamiento buscando sus mejores hiperparámetros con GridSearchCV(). Los hiperparámetros que debes incluir en su búsqueda deben ser al menos los siguientes: ccp_alpha, criterion, max_depth, min_samples_split y class_weight. En este caso deberás usar la métrica (scoring) “precision”. Imprime la mejor combinación de parámetros obtenidos, así como el valor del mejor desempeño (score) obtenido con la métrica “precision”. ¿Cuál es la utilidad de la métrica “precision”? Incluye tus conclusiones.\n",
        "\n",
        "d. Con los mejores valores de los hiperparámetros encontrados con la métrica “precision” para el modelo de árbol de decisión, obtener las curvas de aprendizaje (learning curve), incrementando el tamaño del conjunto de entrenamiento al menos 20 veces. Si lo crees adecuado, puedes hacer los ajustes que consideres adecuados para mejorar el resultado y evitar el sobreentrenamiento o el subentrenamiento.\n",
        "\n",
        "e. Para el modelo de bosque aleatorio (random forest) realizar el entrenamiento buscando sus mejores hiperparámetros con GridSearchCV(). Los hiperparámetros que debes incluir en su búsqueda deben ser al menos los siguientes: ccp_alpha, criterion, max_depth, min_samples_split y class_weight. En este caso deberás usar la métrica (scoring) “recall”. Imprime la mejor combinación de parámetros obtenidos, así como el valor del mejor desempeño (score) obtenido con la métrica “recall”. ¿Cuál es la utilidad de la métrica “recall”? Incluye tus conclusiones. NOTA: Toma en cuenta que el método de random forest pude tardar varios minutos en llevar a cabo\n",
        "\n",
        "f. Con los mejores valores de los hiperparámetros encontrados con la métrica “recall” para el modelo de bosque aleatorio, obtener las curvas de validación (validation curve), incrementando la complejidad del modelo a través del hiperparámetro “max_depth” con al menos 10 valores. Si lo crees adecuado, puedes hacer los ajustes que consideres adecuados para mejorar el resultado y evitar el sobreentrenamiento o el subentrenamiento."
      ],
      "metadata": {
        "id": "Dfekl9DrwM3j"
      }
    },
    {
      "cell_type": "markdown",
      "source": [
        "### GridSearchCV Regresión Logística"
      ],
      "metadata": {
        "id": "LyMi_GWrxHR1"
      }
    },
    {
      "cell_type": "code",
      "source": [
        "modeloLR = LogisticRegression(max_iter=1000000, random_state=11)\n",
        "\n",
        "# C, solver, class_weight y penalty. \n",
        "\n",
        "pipeline = Pipeline(steps=[('transformaciones',transformaciones), (\"modelo\", modeloLR)])\n",
        "\n",
        "# c_param = [0.0001,0.01,0.1,1.0,10.,100.]\n",
        "## Primera corrida, valor de C en 0.1\n",
        "\n",
        "#dicc_grid = {'C':[0.0001,0.01,0.1,1.0,10.,100.],\n",
        "#             'solver':['newton-cg','lbfgs','liblinear','sag','saga'],\n",
        "#             'class_weight': ['balanced', None],\n",
        "#             'penalty':['l1', 'l2', 'elasticnet', None]\n",
        "#             }\n",
        "#c_param = [0.01,0.05,0.1,0.15,0.20]\n",
        "c_param = [0.06,0.07,0.08,0.09,0.10]\n",
        "\n",
        "\n",
        "dicc_grid = [\n",
        " \n",
        "        {'penalty': ['l1'], 'solver': [ 'saga', 'liblinear'], 'class_weight':['balanced', None], 'C': c_param},\n",
        "        {'penalty': ['l2'], 'solver': ['newton-cg', 'lbfgs', 'liblinear', 'sag', 'saga'], 'class_weight':['balanced', None], 'C': c_param},\n",
        "        {'penalty': ['elasticnet'], 'solver': ['saga'], 'class_weight':['balanced', None], 'C': c_param, 'l1_ratio': [0.5]},\n",
        "        {'penalty': ['none'], 'solver': ['newton-cg', 'lbfgs', 'sag', 'saga'], 'class_weight':['balanced', None]}\n",
        "    ]\n",
        "\n",
        "cv = RepeatedStratifiedKFold(n_splits=5, n_repeats=3, random_state=11)\n",
        "\n",
        "grid = GridSearchCV(estimator=modeloLR, \n",
        "                    param_grid=dicc_grid, \n",
        "                    cv=cv,\n",
        "                    n_jobs = -1,\n",
        "                    scoring=make_scorer(nues_f1score))"
      ],
      "metadata": {
        "id": "jaDj3kawC9B6"
      },
      "execution_count": 18,
      "outputs": []
    },
    {
      "cell_type": "code",
      "source": [
        "import warnings\n",
        "warnings.filterwarnings('ignore')\n",
        "\n",
        "Xtransf = transformaciones.fit_transform(Xtv)\n",
        "grid.fit(Xtransf, ytv)\n",
        "\n",
        "print('Mejor valor de exactitud obtenido con la mejor combinación:', grid.best_score_)\n",
        "print('Mejor combinación de valores encontrados de los hiperparámetros:', grid.best_params_)\n",
        "print('Métrica utilizada:', grid.scoring)"
      ],
      "metadata": {
        "colab": {
          "base_uri": "https://localhost:8080/"
        },
        "id": "13lOyV70ZMlK",
        "outputId": "d289e848-1c45-4378-ba8d-b2acb65a306b"
      },
      "execution_count": 19,
      "outputs": [
        {
          "output_type": "stream",
          "name": "stdout",
          "text": [
            "Mejor valor de exactitud obtenido con la mejor combinación: 0.8479415743416557\n",
            "Mejor combinación de valores encontrados de los hiperparámetros: {'C': 0.08, 'class_weight': None, 'penalty': 'l2', 'solver': 'sag'}\n",
            "Métrica utilizada: make_scorer(nues_f1score)\n"
          ]
        }
      ]
    },
    {
      "cell_type": "markdown",
      "source": [
        "#### **Curvas de Aprendizaje para los Hiperparametros:** \n",
        "'C': 0.08, 'class_weight': None, 'penalty': 'l2', 'solver': 'sag'"
      ],
      "metadata": {
        "id": "pVf9end5xV5Z"
      }
    },
    {
      "cell_type": "code",
      "source": [
        "def nues_ModeloYCurvasLRBestHP(Xin, score):\n",
        "\n",
        "  modelo = LogisticRegression(penalty = 'l2', C = 0.08, class_weight = None, solver ='sag')\n",
        "  pipeline = Pipeline(steps=[('transformaciones',transformaciones), (\"modelo\", modelo)])\n",
        "  nues_cv = RepeatedStratifiedKFold(n_splits=5, n_repeats=3, random_state=11)\n",
        "  delta_train_space = np.linspace(0.1,1,20, endpoint = True) #20 puntos (comenzamos en 10%, pasamos a 14.7% y asi hasta el 100% de los datos de entrenamiento)\n",
        "\n",
        "  tr_sizes, tr_scores, val_scores = learning_curve(estimator = pipeline ,    \n",
        "                                                        X = Xtv,\n",
        "                                                        y = ytv,\n",
        "                                                        cv = nues_cv,\n",
        "                                                        n_jobs = -1,\n",
        "                                                        scoring = make_scorer(score),                                               \n",
        "                                                        train_sizes = delta_train_space,\n",
        "                                                        random_state=11)\n",
        "       \n",
        "  nuestra_LearningCurvePlot(tr_sizes, tr_scores, val_scores, score)"
      ],
      "metadata": {
        "id": "E9Lot3GaxcWU"
      },
      "execution_count": 20,
      "outputs": []
    },
    {
      "cell_type": "code",
      "source": [
        "print('Curvas de aprendizaje del modelo lineal mejores Hiperparametros:')\n",
        "nues_ModeloYCurvasLRBestHP(Xtv, nues_f1score)"
      ],
      "metadata": {
        "colab": {
          "base_uri": "https://localhost:8080/",
          "height": 427
        },
        "id": "UcMraXFXyu4E",
        "outputId": "e5342c47-9f50-471c-8af2-8689475f33ac"
      },
      "execution_count": 21,
      "outputs": [
        {
          "output_type": "stream",
          "name": "stdout",
          "text": [
            "Curvas de aprendizaje del modelo lineal mejores Hiperparametros:\n"
          ]
        },
        {
          "output_type": "display_data",
          "data": {
            "text/plain": [
              "<Figure size 504x432 with 1 Axes>"
            ],
            "image/png": "[encoded data removed]"
          },
          "metadata": {}
        }
      ]
    },
    {
      "cell_type": "markdown",
      "source": [
        "### GridSearchCV Árbol de decisión"
      ],
      "metadata": {
        "id": "IObXDHdhzkFM"
      }
    },
    {
      "cell_type": "code",
      "source": [
        "modeloDT = DecisionTreeClassifier()\n",
        "\n",
        "# cp_alpha, criterion, max_depth, min_samples_split y class_weigh \n",
        "\n",
        "pipeline = Pipeline(steps=[('transformaciones',transformaciones), (\"modelo\", modeloDT)])\n",
        "\n",
        "dicc_grid = {'modelo__ccp_alpha':[0.0001,0.01,0.1,1.0,10.,100.],\n",
        "             'modelo__criterion':['gini', 'entropy', 'log_loss'],\n",
        "             'modelo__max_depth': [1,2,8,16,32, None],\n",
        "             'modelo__min_samples_split':[0.1,0.3,0.5,1.0],\n",
        "             'modelo__class_weight':['balanced', None]\n",
        "             }\n",
        "\n",
        "cv = RepeatedStratifiedKFold(n_splits=5, n_repeats=3, random_state=11)\n",
        "\n",
        "grid = GridSearchCV(estimator=pipeline, \n",
        "                    param_grid=dicc_grid, \n",
        "                    cv=cv,\n",
        "                    n_jobs = -1, \n",
        "                    scoring=make_scorer(nues_precision))"
      ],
      "metadata": {
        "id": "xdzfrcU8zj0Q"
      },
      "execution_count": 87,
      "outputs": []
    },
    {
      "cell_type": "code",
      "source": [
        "grid.fit(Xtv, ytv)\n",
        "\n",
        "print('Mejor valor de exactitud obtenido con la mejor combinación:', grid.best_score_)\n",
        "print('Mejor combinación de valores encontrados de los hiperparámetros:', grid.best_params_)\n",
        "print('Métrica utilizada:', grid.scoring)"
      ],
      "metadata": {
        "colab": {
          "base_uri": "https://localhost:8080/"
        },
        "id": "JL1-lYI713mx",
        "outputId": "6672bb35-65ca-46ae-ce02-6278a7b073b1"
      },
      "execution_count": 88,
      "outputs": [
        {
          "output_type": "stream",
          "name": "stdout",
          "text": [
            "Mejor valor de exactitud obtenido con la mejor combinación: 0.8832631462620708\n",
            "Mejor combinación de valores encontrados de los hiperparámetros: {'modelo__ccp_alpha': 0.0001, 'modelo__class_weight': 'balanced', 'modelo__criterion': 'gini', 'modelo__max_depth': 1, 'modelo__min_samples_split': 0.1}\n",
            "Métrica utilizada: make_scorer(nues_precision)\n"
          ]
        }
      ]
    },
    {
      "cell_type": "markdown",
      "source": [
        "#### **Curvas de Aprendizaje para los Hiperparametros:** \n",
        "'modelo__ccp_alpha': 0.0001, 'modelo__class_weight': 'balanced', 'modelo__criterion': 'gini', 'modelo__max_depth': 1, 'modelo__min_samples_split': 2"
      ],
      "metadata": {
        "id": "2vjPpfT9joYa"
      }
    },
    {
      "cell_type": "code",
      "source": [
        "def nues_ModeloYCurvasDTBestHP(Xin, score):\n",
        "\n",
        "  modeloDT = DecisionTreeClassifier(ccp_alpha = 0.0001, class_weight = 'balanced', criterion = 'gini', max_depth = 1, min_samples_split = 0.1)\n",
        "  pipeline = Pipeline(steps=[('transformaciones',transformaciones), (\"modelo\", modeloDT)])\n",
        "  nues_cv = RepeatedStratifiedKFold(n_splits=5, n_repeats=3, random_state=11)\n",
        "  delta_train_space = np.linspace(0.1,1,20, endpoint = True) #20 puntos (comenzamos en 10%, pasamos a 14.7% y asi hasta el 100% de los datos de entrenamiento)\n",
        "\n",
        "  tr_sizes, tr_scores, val_scores = learning_curve(estimator = pipeline ,    \n",
        "                                                        X = Xtv,\n",
        "                                                        y = ytv,\n",
        "                                                        cv = nues_cv,\n",
        "                                                        n_jobs = -1,\n",
        "                                                        scoring = make_scorer(score),                                               \n",
        "                                                        train_sizes = delta_train_space,\n",
        "                                                        random_state=11)\n",
        "       \n",
        "  nuestra_LearningCurvePlot(tr_sizes, tr_scores, val_scores, score)"
      ],
      "metadata": {
        "id": "nochstyWjv2t"
      },
      "execution_count": 89,
      "outputs": []
    },
    {
      "cell_type": "code",
      "source": [
        "print('Curvas de aprendizaje del modelo árbol de decisión mejores Hiperparametros:')\n",
        "nues_ModeloYCurvasDTBestHP(Xtv, nues_precision)"
      ],
      "metadata": {
        "colab": {
          "base_uri": "https://localhost:8080/",
          "height": 427
        },
        "id": "24aFAD8Nkb6T",
        "outputId": "6ddfd15b-13b0-42dd-8053-76640ec3aad7"
      },
      "execution_count": 90,
      "outputs": [
        {
          "output_type": "stream",
          "name": "stdout",
          "text": [
            "Curvas de aprendizaje del modelo árbol de decisión mejores Hiperparametros:\n"
          ]
        },
        {
          "output_type": "display_data",
          "data": {
            "text/plain": [
              "<Figure size 504x432 with 1 Axes>"
            ],
            "image/png": "[encoded data removed]"
          },
          "metadata": {}
        }
      ]
    },
    {
      "cell_type": "markdown",
      "source": [
        "### GridSearchCV Bosque Aleatorio"
      ],
      "metadata": {
        "id": "PEJaGr3ilqgf"
      }
    },
    {
      "cell_type": "code",
      "source": [
        "modeloRF = RandomForestClassifier()\n",
        "\n",
        "# cp_alpha, criterion, max_depth, min_samples_split y class_weigh \n",
        "\n",
        "pipeline = Pipeline(steps=[('transformaciones',transformaciones), (\"modelo\", modeloRF)])\n",
        "\n",
        "dicc_grid = {'modelo__ccp_alpha':[0.0001,0.01,0.1,1.0,10.,100.],\n",
        "             'modelo__criterion':['gini', 'entropy', 'log_loss'],\n",
        "             'modelo__max_depth': [1,2,8, None],\n",
        "             'modelo__min_samples_split':[0.1,0.3,0.5,1.0],\n",
        "             'modelo__class_weight':['balanced', None]\n",
        "             }\n",
        "\n",
        "cv = RepeatedStratifiedKFold(n_splits=5, n_repeats=3, random_state=11)\n",
        "\n",
        "grid = GridSearchCV(estimator=pipeline, \n",
        "                    param_grid=dicc_grid, \n",
        "                    cv=cv,\n",
        "                    n_jobs = -1, \n",
        "                    scoring=make_scorer(nues_recall))"
      ],
      "metadata": {
        "id": "bQOP6sQ3m-eb"
      },
      "execution_count": 85,
      "outputs": []
    },
    {
      "cell_type": "code",
      "source": [
        "grid.fit(Xtv, ytv)\n",
        "\n",
        "print('Mejor valor de exactitud obtenido con la mejor combinación:', grid.best_score_)\n",
        "print('Mejor combinación de valores encontrados de los hiperparámetros:', grid.best_params_)\n",
        "print('Métrica utilizada:', grid.scoring)"
      ],
      "metadata": {
        "id": "tQew9bd5nBlf"
      },
      "execution_count": null,
      "outputs": []
    },
    {
      "cell_type": "markdown",
      "source": [
        "#### **Curvas de Aprendizaje para los Hiperparametros:** \n",
        "'modelo__ccp_alpha': *, 'modelo__class_weight': *, 'modelo__criterion': '*, 'modelo__max_depth': *, 'modelo__min_samples_split': *"
      ],
      "metadata": {
        "id": "bdbaNT1JnTpt"
      }
    },
    {
      "cell_type": "code",
      "source": [
        "def nues_ModeloYCurvasRFBestHP(Xin, score):\n",
        "\n",
        "  modeloRF = RandomForestClassifier(ccp_alpha = 0.0001, class_weight = None, criterion = 'gini', max_depth = 1, min_samples_split = 2)\n",
        "  pipeline = Pipeline(steps=[('transformaciones',transformaciones), (\"modelo\", modeloRF)])\n",
        "  nues_cv = RepeatedStratifiedKFold(n_splits=5, n_repeats=3, random_state=11)\n",
        "\n",
        "  delta_depth_space = np.linspace(1,10,10, endpoint = True) #20 puntos (comenzamos en 1, pasamos a 2 y asi hasta el 10 en Max Depth)\n",
        "\n",
        "  train_scores, val_scores = validation_curve(estimator = pipeline ,    \n",
        "                                                        X = Xtv,\n",
        "                                                        y = ytv,\n",
        "                                                        param_name = 'modelo__max_depth',\n",
        "                                                        param_range = delta_depth_space,\n",
        "                                                        cv = nues_cv,\n",
        "                                                        n_jobs = -1,\n",
        "                                                        scoring = make_scorer(score)\n",
        "                                                        )\n",
        "       \n",
        "  nuestra_ValidationCurvePlot(train_scores, val_scores, delta_depth_space, score)"
      ],
      "metadata": {
        "id": "Dcaz6s7VowSo"
      },
      "execution_count": 74,
      "outputs": []
    },
    {
      "cell_type": "code",
      "source": [
        "print('Curvas de aprendizaje del modelo árbol de decisión mejores Hiperparametros:')\n",
        "nues_ModeloYCurvasRFBestHP(Xtv, nues_recall)"
      ],
      "metadata": {
        "id": "vcK5TPEZnlyE",
        "colab": {
          "base_uri": "https://localhost:8080/",
          "height": 427
        },
        "outputId": "a9846f43-997a-4190-c938-7fc28e67f137"
      },
      "execution_count": 67,
      "outputs": [
        {
          "output_type": "stream",
          "name": "stdout",
          "text": [
            "Curvas de aprendizaje del modelo árbol de decisión mejores Hiperparametros:\n"
          ]
        },
        {
          "output_type": "display_data",
          "data": {
            "text/plain": [
              "<Figure size 504x432 with 1 Axes>"
            ],
            "image/png": "[encoded data removed]"
          },
          "metadata": {}
        }
      ]
    },
    {
      "cell_type": "markdown",
      "source": [
        "#**Ejercicio-6.**"
      ],
      "metadata": {
        "id": "W2S7LI0NC9wE"
      }
    },
    {
      "cell_type": "markdown",
      "source": [
        "Para cada uno de estos tres modelos, con las métricas que se consideraron en cada caso y usando el conjunto de Prueba que no has utilizado hasta ahora, obtener los modelos finales como se te indica a continuación. Deberás usar además como conjunto de entrenamiento el llamado modelo de entrenamiento “aumentado” que consiste en las datos que estuviste utilizando para entrenamiento y validación:\n",
        "a. Obtener el modelo de regresión logística con los mejores parámetros que hayas encontrado con la métrica f1-score utilizada. Imprimir el valor de dicha métrica e incluye tus conclusiones finales para este caso. Incluir un gráfico del árbol de decisión final obtenido.\n",
        "\n",
        "b. Obtener el modelo de árbol de decisiones con los mejores parámetros que hayas encontrado con la métrica “precision” utilizada. Imprimir el valor de dicha métrica e incluye tus conclusiones finales para este caso.\n",
        "\n",
        "c. Obtener el modelo de bosque aleatorio con los mejores parámetros que hayas encontrado con la métrica “recall” utilizada. Imprimir el valor de dicha métrica e incluye tus conclusiones finales para este caso."
      ],
      "metadata": {
        "id": "LFwtPhGhwSFN"
      }
    },
    {
      "cell_type": "markdown",
      "source": [
        "## 6a - Modelo Regresión logística"
      ],
      "metadata": {
        "id": "5Euc6OeCI69F"
      }
    },
    {
      "cell_type": "code",
      "source": [
        "modeloLR = LogisticRegression(penalty = 'l2', C =  0.08, class_weight = None, solver = 'sag')\n",
        "\n",
        "Xtvtransf = transformaciones.fit(Xtv)\n",
        "Xtvtransf = Xtvtransf.transform(Xtv)\n",
        "\n",
        "#Xtvtransf = transformaciones.fit_transform(Xtv)\n",
        "modeloLR.fit(Xtvtransf, ytv)\n",
        "Xtesttransf = transformaciones.transform(Xtest)\n",
        "\n",
        "yhatLR = modeloLR.predict(Xtesttransf)\n",
        "\n",
        "scoreLR = nues_f1score(ytest, yhatLR)\n",
        "\n",
        "print(scoreLR)\n"
      ],
      "metadata": {
        "id": "n0P_AcyjC_Dh",
        "colab": {
          "base_uri": "https://localhost:8080/"
        },
        "outputId": "e79c668a-68f2-48a1-88e4-b46f9b3884fb"
      },
      "execution_count": 92,
      "outputs": [
        {
          "output_type": "stream",
          "name": "stdout",
          "text": [
            "0.8054298642533937\n"
          ]
        }
      ]
    },
    {
      "cell_type": "markdown",
      "source": [
        "### Conclusión 6 - a\n",
        "\n",
        "Tras correr el modelo de regresión logística con los mejores hiperparámetros se obtiene un resultado de f1-score de un 84.73%, comparado con el resultado de f1-score con los parametros por defecto del modelo de regresión logística (83.9%) tenemos un aumento de aproximadamente 0.83%. Evaluando dicho modelo para los datos de prueba tenemos un desempeño de esta métrica de un 80.54%. \n",
        "\n",
        "Teniendo presente que el f1-score corresponde a la media armónica del precision y recall, se concluye que los hiperparámetros logran aumentar la cantidad de verdaderos positivos en las predicciones del modelo final."
      ],
      "metadata": {
        "id": "ZJnQAizdFJVg"
      }
    },
    {
      "cell_type": "markdown",
      "source": [
        "## 6b - Modelo Árbol de decisión"
      ],
      "metadata": {
        "id": "-tA1cWODJJU_"
      }
    },
    {
      "cell_type": "code",
      "source": [
        "modeloDT = DecisionTreeClassifier(ccp_alpha = 0.0001, class_weight = 'balanced', criterion = 'gini', max_depth = 1, min_samples_split = 0.1)\n",
        "\n",
        "modeloDT.fit(Xtvtransf, ytv)\n",
        "Xtesttransf = transformaciones.transform(Xtest)\n",
        "\n",
        "yhatDT = modeloDT.predict(Xtesttransf)\n",
        "\n",
        "scoreDT = nues_precision(ytest, yhatDT)\n",
        "\n",
        "print(scoreDT, \"\\n\\n\")\n",
        "\n",
        "DecisionTree = modeloDT.fit(Xtvtransf, ytv)\n",
        "\n",
        "dot_data = tree.export_graphviz(decision_tree=DecisionTree,\n",
        "                                out_file = None,\n",
        "                                max_depth=None,\n",
        "                                feature_names=list(pd.DataFrame(Xtvtransf).columns.values),\n",
        "                                class_names=['Buen Cliente', 'Mal Cliente'],\n",
        "                                filled = True,\n",
        "                                rotate = True, \n",
        "                                proportion = False)\n",
        "\n",
        "graph = pydotplus.graph_from_dot_data(dot_data)\n",
        "Image(graph.create_png())"
      ],
      "metadata": {
        "id": "x6uBleJUC_AU",
        "colab": {
          "base_uri": "https://localhost:8080/",
          "height": 310
        },
        "outputId": "e60d5af7-cd58-4557-d633-bb528e6bae93"
      },
      "execution_count": 93,
      "outputs": [
        {
          "output_type": "stream",
          "name": "stdout",
          "text": [
            "0.8867924528301887 \n",
            "\n",
            "\n"
          ]
        },
        {
          "output_type": "execute_result",
          "data": {
            "image/png": "[encoded data removed]",
            "text/plain": [
              "<IPython.core.display.Image object>"
            ]
          },
          "metadata": {},
          "execution_count": 93
        }
      ]
    },
    {
      "cell_type": "markdown",
      "source": [
        "## 6c - Modelo Bosque Aleatorio"
      ],
      "metadata": {
        "id": "IqNyt9DG6D1Z"
      }
    },
    {
      "cell_type": "code",
      "source": [
        "modeloRF = RandomForestClassifier(ccp_alpha = 0.0001, class_weight = None, criterion = 'gini', max_depth = 1, min_samples_split = 2)\n",
        "\n",
        "modeloRF.fit(Xtvtransf, ytv)\n",
        "Xtesttransf = transformaciones.transform(Xtest)\n",
        "\n",
        "yhatRF = modeloRF.predict(Xtesttransf)\n",
        "\n",
        "scoreRF = nues_recall(ytest, yhatRF)\n",
        "\n",
        "print(scoreRF, \"\\n\\n\")\n",
        "\n"
      ],
      "metadata": {
        "colab": {
          "base_uri": "https://localhost:8080/"
        },
        "id": "J26jVxrP6DlX",
        "outputId": "41a9b967-9ef6-465b-b293-1017965a0636"
      },
      "execution_count": 94,
      "outputs": [
        {
          "output_type": "stream",
          "name": "stdout",
          "text": [
            "1.0 \n",
            "\n",
            "\n"
          ]
        }
      ]
    },
    {
      "cell_type": "markdown",
      "source": [
        "###**Fin de la Actividad de la semana 6.**"
      ],
      "metadata": {
        "id": "7ql_r2G-DB_m"
      }
    },
    {
      "cell_type": "code",
      "source": [],
      "metadata": {
        "id": "3YTGTWSHjCdd"
      },
      "execution_count": null,
      "outputs": []
    },
    {
      "cell_type": "code",
      "source": [],
      "metadata": {
        "id": "oDVXMemas9UE"
      },
      "execution_count": null,
      "outputs": []
    }
  ]
}